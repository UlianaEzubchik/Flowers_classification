{
 "cells": [
  {
   "cell_type": "code",
   "execution_count": 1,
   "id": "f4f66e3e",
   "metadata": {},
   "outputs": [],
   "source": [
    "import numpy as np\n",
    "import pandas as pd\n",
    "import matplotlib.pyplot as plt\n",
    "%matplotlib inline\n",
    "import tensorflow as tf\n",
    "from tensorflow import keras\n",
    "from tensorflow.keras import layers\n",
    "from tensorflow.keras.applications import MobileNet\n",
    "from tensorflow.keras.preprocessing.image import ImageDataGenerator\n",
    "from tensorflow.keras.callbacks import EarlyStopping, ReduceLROnPlateau"
   ]
  },
  {
   "cell_type": "code",
   "execution_count": 2,
   "id": "2e493a1f",
   "metadata": {},
   "outputs": [],
   "source": [
    "# Constant values\n",
    "data_train_path = 'dataset/train'\n",
    "data_test_path = 'dataset/test'\n",
    "data_val_path = 'dataset/valid'\n",
    "img_width = 224\n",
    "img_height = 224\n",
    "batch_size = 32\n",
    "epochs = 30"
   ]
  },
  {
   "cell_type": "code",
   "execution_count": 3,
   "id": "f44556f9",
   "metadata": {},
   "outputs": [
    {
     "name": "stdout",
     "output_type": "stream",
     "text": [
      "Found 6552 images belonging to 102 classes.\n",
      "Found 818 images belonging to 102 classes.\n"
     ]
    }
   ],
   "source": [
    "# Data Augmentation\n",
    "train_datagen = ImageDataGenerator(\n",
    "    rescale=1./255,\n",
    "    rotation_range=20,\n",
    "    width_shift_range=0.2,\n",
    "    height_shift_range=0.2,\n",
    "    shear_range=0.2,\n",
    "    zoom_range=0.2,\n",
    "    horizontal_flip=True,\n",
    "    fill_mode='nearest')\n",
    "\n",
    "# Load and augment training data\n",
    "train_generator = train_datagen.flow_from_directory(\n",
    "    data_train_path,\n",
    "    target_size=(img_width, img_height),\n",
    "    batch_size=batch_size,\n",
    "    class_mode='categorical')\n",
    "\n",
    "# Load validation data\n",
    "validation_generator = ImageDataGenerator(rescale=1./255).flow_from_directory(\n",
    "    data_val_path,\n",
    "    target_size=(img_width, img_height),\n",
    "    batch_size=batch_size,\n",
    "    class_mode='categorical')"
   ]
  },
  {
   "cell_type": "code",
   "execution_count": 4,
   "id": "7edd1e41",
   "metadata": {},
   "outputs": [],
   "source": [
    "# Define the base model\n",
    "base_model = MobileNet(weights='imagenet', include_top=False, input_shape=(224, 224, 3))"
   ]
  },
  {
   "cell_type": "code",
   "execution_count": 5,
   "id": "791a4897",
   "metadata": {},
   "outputs": [],
   "source": [
    "# Define the model\n",
    "model = keras.Sequential([\n",
    "    base_model,\n",
    "    layers.Dropout(0.5),\n",
    "    layers.GlobalAveragePooling2D(),\n",
    "    layers.Dense(102, activation='softmax')\n",
    "])"
   ]
  },
  {
   "cell_type": "code",
   "execution_count": 6,
   "id": "7de3121b",
   "metadata": {},
   "outputs": [],
   "source": [
    "# Compile the model\n",
    "model.compile(optimizer='adam', loss='categorical_crossentropy', metrics=['accuracy'])"
   ]
  },
  {
   "cell_type": "code",
   "execution_count": 7,
   "id": "f2c53955",
   "metadata": {},
   "outputs": [],
   "source": [
    "# Early stopping and learning rate reduction callbacks\n",
    "early_stopping = EarlyStopping(monitor='val_loss', patience=5, restore_best_weights=True)\n",
    "reduce_lr = ReduceLROnPlateau(monitor='val_loss', factor=0.2, patience=2, min_lr=0.0001)"
   ]
  },
  {
   "cell_type": "code",
   "execution_count": 8,
   "id": "7e88c842",
   "metadata": {},
   "outputs": [
    {
     "name": "stdout",
     "output_type": "stream",
     "text": [
      "Epoch 1/30\n"
     ]
    },
    {
     "name": "stderr",
     "output_type": "stream",
     "text": [
      "C:\\Users\\ulyaa\\anaconda3\\Lib\\site-packages\\keras\\src\\trainers\\data_adapters\\py_dataset_adapter.py:121: UserWarning: Your `PyDataset` class should call `super().__init__(**kwargs)` in its constructor. `**kwargs` can include `workers`, `use_multiprocessing`, `max_queue_size`. Do not pass these arguments to `fit()`, as they will be ignored.\n",
      "  self._warn_if_super_not_called()\n"
     ]
    },
    {
     "name": "stdout",
     "output_type": "stream",
     "text": [
      "\u001b[1m205/205\u001b[0m \u001b[32m━━━━━━━━━━━━━━━━━━━━\u001b[0m\u001b[37m\u001b[0m \u001b[1m533s\u001b[0m 2s/step - accuracy: 0.5433 - loss: 2.1642 - val_accuracy: 0.3594 - val_loss: 3.0525 - learning_rate: 0.0010\n",
      "Epoch 2/30\n",
      "\u001b[1m205/205\u001b[0m \u001b[32m━━━━━━━━━━━━━━━━━━━━\u001b[0m\u001b[37m\u001b[0m \u001b[1m494s\u001b[0m 2s/step - accuracy: 0.9036 - loss: 0.3511 - val_accuracy: 0.6174 - val_loss: 1.7211 - learning_rate: 0.0010\n",
      "Epoch 3/30\n",
      "\u001b[1m205/205\u001b[0m \u001b[32m━━━━━━━━━━━━━━━━━━━━\u001b[0m\u001b[37m\u001b[0m \u001b[1m492s\u001b[0m 2s/step - accuracy: 0.9339 - loss: 0.2201 - val_accuracy: 0.7738 - val_loss: 0.9051 - learning_rate: 0.0010\n",
      "Epoch 4/30\n",
      "\u001b[1m205/205\u001b[0m \u001b[32m━━━━━━━━━━━━━━━━━━━━\u001b[0m\u001b[37m\u001b[0m \u001b[1m491s\u001b[0m 2s/step - accuracy: 0.9426 - loss: 0.1930 - val_accuracy: 0.6797 - val_loss: 1.7344 - learning_rate: 0.0010\n",
      "Epoch 5/30\n",
      "\u001b[1m205/205\u001b[0m \u001b[32m━━━━━━━━━━━━━━━━━━━━\u001b[0m\u001b[37m\u001b[0m \u001b[1m502s\u001b[0m 2s/step - accuracy: 0.9358 - loss: 0.2213 - val_accuracy: 0.8044 - val_loss: 0.8914 - learning_rate: 0.0010\n",
      "Epoch 6/30\n",
      "\u001b[1m205/205\u001b[0m \u001b[32m━━━━━━━━━━━━━━━━━━━━\u001b[0m\u001b[37m\u001b[0m \u001b[1m494s\u001b[0m 2s/step - accuracy: 0.9580 - loss: 0.1319 - val_accuracy: 0.8606 - val_loss: 0.6182 - learning_rate: 0.0010\n",
      "Epoch 7/30\n",
      "\u001b[1m205/205\u001b[0m \u001b[32m━━━━━━━━━━━━━━━━━━━━\u001b[0m\u001b[37m\u001b[0m \u001b[1m494s\u001b[0m 2s/step - accuracy: 0.9680 - loss: 0.1140 - val_accuracy: 0.7579 - val_loss: 1.1048 - learning_rate: 0.0010\n",
      "Epoch 8/30\n",
      "\u001b[1m205/205\u001b[0m \u001b[32m━━━━━━━━━━━━━━━━━━━━\u001b[0m\u001b[37m\u001b[0m \u001b[1m493s\u001b[0m 2s/step - accuracy: 0.9399 - loss: 0.1900 - val_accuracy: 0.7885 - val_loss: 0.9561 - learning_rate: 0.0010\n",
      "Epoch 9/30\n",
      "\u001b[1m205/205\u001b[0m \u001b[32m━━━━━━━━━━━━━━━━━━━━\u001b[0m\u001b[37m\u001b[0m \u001b[1m492s\u001b[0m 2s/step - accuracy: 0.9772 - loss: 0.0912 - val_accuracy: 0.9670 - val_loss: 0.1426 - learning_rate: 2.0000e-04\n",
      "Epoch 10/30\n",
      "\u001b[1m205/205\u001b[0m \u001b[32m━━━━━━━━━━━━━━━━━━━━\u001b[0m\u001b[37m\u001b[0m \u001b[1m491s\u001b[0m 2s/step - accuracy: 0.9956 - loss: 0.0181 - val_accuracy: 0.9817 - val_loss: 0.1119 - learning_rate: 2.0000e-04\n",
      "Epoch 11/30\n",
      "\u001b[1m205/205\u001b[0m \u001b[32m━━━━━━━━━━━━━━━━━━━━\u001b[0m\u001b[37m\u001b[0m \u001b[1m491s\u001b[0m 2s/step - accuracy: 0.9956 - loss: 0.0157 - val_accuracy: 0.9841 - val_loss: 0.1072 - learning_rate: 2.0000e-04\n",
      "Epoch 12/30\n",
      "\u001b[1m205/205\u001b[0m \u001b[32m━━━━━━━━━━━━━━━━━━━━\u001b[0m\u001b[37m\u001b[0m \u001b[1m492s\u001b[0m 2s/step - accuracy: 0.9982 - loss: 0.0101 - val_accuracy: 0.9841 - val_loss: 0.1075 - learning_rate: 2.0000e-04\n",
      "Epoch 13/30\n",
      "\u001b[1m205/205\u001b[0m \u001b[32m━━━━━━━━━━━━━━━━━━━━\u001b[0m\u001b[37m\u001b[0m \u001b[1m491s\u001b[0m 2s/step - accuracy: 0.9963 - loss: 0.0122 - val_accuracy: 0.9817 - val_loss: 0.1165 - learning_rate: 2.0000e-04\n",
      "Epoch 14/30\n",
      "\u001b[1m205/205\u001b[0m \u001b[32m━━━━━━━━━━━━━━━━━━━━\u001b[0m\u001b[37m\u001b[0m \u001b[1m492s\u001b[0m 2s/step - accuracy: 0.9995 - loss: 0.0069 - val_accuracy: 0.9829 - val_loss: 0.1143 - learning_rate: 1.0000e-04\n",
      "Epoch 15/30\n",
      "\u001b[1m205/205\u001b[0m \u001b[32m━━━━━━━━━━━━━━━━━━━━\u001b[0m\u001b[37m\u001b[0m \u001b[1m489s\u001b[0m 2s/step - accuracy: 0.9988 - loss: 0.0062 - val_accuracy: 0.9792 - val_loss: 0.1131 - learning_rate: 1.0000e-04\n",
      "Epoch 16/30\n",
      "\u001b[1m205/205\u001b[0m \u001b[32m━━━━━━━━━━━━━━━━━━━━\u001b[0m\u001b[37m\u001b[0m \u001b[1m488s\u001b[0m 2s/step - accuracy: 0.9992 - loss: 0.0057 - val_accuracy: 0.9817 - val_loss: 0.1122 - learning_rate: 1.0000e-04\n"
     ]
    }
   ],
   "source": [
    "# Train the model with early stopping and learning rate reduction\n",
    "history = model.fit(train_generator, validation_data=validation_generator, epochs=epochs, verbose=1, callbacks=[early_stopping, reduce_lr])"
   ]
  },
  {
   "cell_type": "code",
   "execution_count": 9,
   "id": "6ae01fe5",
   "metadata": {},
   "outputs": [
    {
     "name": "stdout",
     "output_type": "stream",
     "text": [
      "\u001b[1m26/26\u001b[0m \u001b[32m━━━━━━━━━━━━━━━━━━━━\u001b[0m\u001b[37m\u001b[0m \u001b[1m13s\u001b[0m 486ms/step - accuracy: 0.9815 - loss: 0.1041\n",
      "Validation Accuracy: 0.9841075539588928\n"
     ]
    }
   ],
   "source": [
    "# Evaluate the model\n",
    "val_loss, val_acc = model.evaluate(validation_generator)\n",
    "print(\"Validation Accuracy:\", val_acc)"
   ]
  },
  {
   "cell_type": "code",
   "execution_count": 10,
   "id": "ba32bf41",
   "metadata": {},
   "outputs": [
    {
     "data": {
      "image/png": "[encoded data removed]",
      "text/plain": [
       "<Figure size 640x480 with 1 Axes>"
      ]
     },
     "metadata": {},
     "output_type": "display_data"
    }
   ],
   "source": [
    "# Plot the accuracy and loss curves\n",
    "plt.plot(history.history['accuracy'], label='Training Accuracy')\n",
    "plt.plot(history.history['val_accuracy'], label='Validation Accuracy')\n",
    "plt.plot(history.history['loss'], label='Training Loss')\n",
    "plt.plot(history.history['val_loss'], label='Validation Loss')\n",
    "plt.legend()\n",
    "plt.show()"
   ]
  },
  {
   "cell_type": "code",
   "execution_count": 12,
   "id": "8ab47f60",
   "metadata": {},
   "outputs": [],
   "source": [
    "# Save the model\n",
    "model.save('Flowers_classifier.keras')"
   ]
  },
  {
   "cell_type": "code",
   "execution_count": null,
   "id": "b8c74f5c",
   "metadata": {},
   "outputs": [],
   "source": []
  }
 ],
 "metadata": {
  "kernelspec": {
   "display_name": "Python 3 (ipykernel)",
   "language": "python",
   "name": "python3"
  },
  "language_info": {
   "codemirror_mode": {
    "name": "ipython",
    "version": 3
   },
   "file_extension": ".py",
   "mimetype": "text/x-python",
   "name": "python",
   "nbconvert_exporter": "python",
   "pygments_lexer": "ipython3",
   "version": "3.11.5"
  }
 },
 "nbformat": 4,
 "nbformat_minor": 5
}
